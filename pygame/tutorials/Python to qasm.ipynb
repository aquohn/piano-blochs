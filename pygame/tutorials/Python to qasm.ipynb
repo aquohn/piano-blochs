{
 "cells": [
  {
   "cell_type": "code",
   "execution_count": 1,
   "metadata": {},
   "outputs": [],
   "source": [
    "from qiskit import QuantumCircuit"
   ]
  },
  {
   "cell_type": "code",
   "execution_count": 2,
   "metadata": {},
   "outputs": [],
   "source": [
    "from circuit_grid import CircuitGridModel, CircuitGridNode\n",
    "import circuit_node_types as node_types\n",
    "from sympy import pi\n",
    "import logging"
   ]
  },
  {
   "cell_type": "code",
   "execution_count": 3,
   "metadata": {},
   "outputs": [],
   "source": [
    "id_gate = CircuitGridNode(node_types.ID)\n",
    "x_gate = CircuitGridNode(node_types.X, 1)\n",
    "y_gate = CircuitGridNode(node_types.Y, 1)\n",
    "z_gate = CircuitGridNode(node_types.Z, 1)\n",
    "h_gate = CircuitGridNode(node_types.H, 1)\n",
    "s_gate = CircuitGridNode(node_types.S, 1)\n",
    "sdg_gate = CircuitGridNode(node_types.SDG, 1)\n",
    "t_gate = CircuitGridNode(node_types.T, 1)\n",
    "tdg_gate = CircuitGridNode(node_types.TDG, 1)\n",
    "\n",
    "u1_gate = CircuitGridNode(node_types.U1, 1, theta=pi)\n",
    "u2_gate = CircuitGridNode(node_types.U2, 1, theta=pi, phi=pi)\n",
    "u3_gate = CircuitGridNode(node_types.U3, 1, theta=pi, phi=pi, lam=pi)\n",
    "\n",
    "rx_gate = CircuitGridNode(node_types.RX, 1, theta=pi)\n",
    "ry_gate = CircuitGridNode(node_types.RY, 1, theta=pi)\n",
    "rz_gate = CircuitGridNode(node_types.RZ, 1, theta=pi)\n",
    "\n",
    "cx_gate = CircuitGridNode(node_types.CX, 1, ctrl_a=0)\n",
    "cy_gate = CircuitGridNode(node_types.CY, 2, ctrl_a=1)\n",
    "cz_gate = CircuitGridNode(node_types.CZ, 3, ctrl_a=2)\n",
    "ch_gate = CircuitGridNode(node_types.CH, 4, ctrl_a=3)\n",
    "crz_gate = CircuitGridNode(node_types.CRZ, 1, theta=pi, ctrl_a=0)\n",
    "\n",
    "cu1_gate = CircuitGridNode(node_types.CU1, 1, theta=pi, ctrl_a=0)\n",
    "cu3_gate = CircuitGridNode(node_types.CU3, 1, theta=pi, phi=pi, lam=pi, ctrl_a=0)\n",
    "\n",
    "ccx_gate = CircuitGridNode(node_types.CCX, 2, ctrl_a=0, ctrl_b=1)\n",
    "\n",
    "swap_gate = CircuitGridNode(node_types.SWAP, 1, swap=2)\n",
    "cswap_gate = CircuitGridNode(node_types.CSWAP, 1, ctrl_a=0, swap=2)\n",
    "\n",
    "barrier = CircuitGridNode(node_types.BARRIER, 1)\n",
    "measure_z = CircuitGridNode(node_types.MEASURE_Z, 1)\n",
    "reset = CircuitGridNode(node_types.RESET, 1)\n",
    "_if = CircuitGridNode(node_types.IF, 1)"
   ]
  },
  {
   "cell_type": "code",
   "execution_count": 4,
   "metadata": {},
   "outputs": [],
   "source": [
    "gates = [\n",
    "    id_gate,\n",
    "    x_gate,\n",
    "    y_gate,\n",
    "    z_gate,\n",
    "    h_gate,\n",
    "    s_gate,\n",
    "    sdg_gate,\n",
    "    t_gate,\n",
    "    tdg_gate,\n",
    "    \n",
    "    u1_gate,\n",
    "    u2_gate,\n",
    "    u3_gate,\n",
    "    \n",
    "    rx_gate,\n",
    "    ry_gate,\n",
    "    rz_gate,\n",
    "    \n",
    "    cx_gate,\n",
    "    cy_gate,\n",
    "    cz_gate,\n",
    "    ch_gate,\n",
    "    crz_gate,\n",
    "    \n",
    "    cu1_gate,\n",
    "    cu3_gate,\n",
    "    \n",
    "    ccx_gate,\n",
    "    \n",
    "    swap_gate,\n",
    "    cswap_gate,\n",
    "    \n",
    "    barrier,\n",
    "    measure_z,\n",
    "    reset,\n",
    "    _if\n",
    "]"
   ]
  },
  {
   "cell_type": "code",
   "execution_count": 5,
   "metadata": {},
   "outputs": [
    {
     "name": "stdout",
     "output_type": "stream",
     "text": [
      "type: id\n",
      "type: x, qubit index: 1\n",
      "type: y, qubit index: 1\n",
      "type: z, qubit index: 1\n",
      "type: h, qubit index: 1\n",
      "type: s, qubit index: 1\n",
      "type: sdg, qubit index: 1\n",
      "type: t, qubit index: 1\n",
      "type: tdg, qubit index: 1\n",
      "type: u1, qubit index: 1, theta: pi\n",
      "type: u2, qubit index: 1, theta: pi, phi: pi\n",
      "type: u3, qubit index: 1, theta: pi, phi: pi, lam: pi\n",
      "type: rx, qubit index: 1, theta: pi\n",
      "type: ry, qubit index: 1, theta: pi\n",
      "type: rz, qubit index: 1, theta: pi\n",
      "type: cx, qubit index: 1, ctrl_a: 0\n",
      "type: cy, qubit index: 2, ctrl_a: 1\n",
      "type: cz, qubit index: 3, ctrl_a: 2\n",
      "type: ch, qubit index: 4, ctrl_a: 3\n",
      "type: crz, qubit index: 1, theta: pi, ctrl_a: 0\n",
      "type: cu1, qubit index: 1, theta: pi, ctrl_a: 0\n",
      "type: cu3, qubit index: 1, theta: pi, phi: pi, lam: pi, ctrl_a: 0\n",
      "type: ccx, qubit index: 2, ctrl_a: 0, ctrl_b: 1\n",
      "type: swap, qubit index: 1, swap: 2\n",
      "type: cswap, qubit index: 1, ctrl_a: 0, swap: 2\n",
      "type: barrier, qubit index: 1\n",
      "type: measure, qubit index: 1\n",
      "type: reset, qubit index: 1\n",
      "type: if, qubit index: 1\n"
     ]
    }
   ],
   "source": [
    "for gate in gates:\n",
    "    print(gate)"
   ]
  },
  {
   "cell_type": "code",
   "execution_count": 6,
   "metadata": {},
   "outputs": [
    {
     "name": "stdout",
     "output_type": "stream",
     "text": [
      "id q[None];\n",
      "x q[1];\n",
      "y q[1];\n",
      "z q[1];\n",
      "h q[1];\n",
      "s q[1];\n",
      "sdg q[1];\n",
      "t q[1];\n",
      "tdg q[1];\n",
      "u1(pi) q[1];\n",
      "u2(pi,pi) q[1];\n",
      "u3(pi,pi,pi) q[1];\n",
      "rx(pi) q[1];\n",
      "ry(pi) q[1];\n",
      "rz(pi) q[1];\n",
      "cx q[0],q[1];\n",
      "cy q[1],q[2];\n",
      "cz q[2],q[3];\n",
      "ch q[3],q[4];\n",
      "crz(pi) q[0],q[1];\n",
      "cu1(pi) q[0],q[1];\n",
      "cu3(pi,pi,pi) q[0],q[1];\n",
      "ccx q[0],q[1],q[2];\n",
      "swap q[2],q[1];\n",
      "cswap q[0],q[2],q[1];\n",
      "barrier q[1];\n",
      "measure q[1] -> c[1];\n",
      "reset q[1];\n",
      "if q[1];\n"
     ]
    }
   ],
   "source": [
    "for gate in gates:\n",
    "    print(gate.qasm())"
   ]
  },
  {
   "cell_type": "code",
   "execution_count": 7,
   "metadata": {},
   "outputs": [
    {
     "name": "stdout",
     "output_type": "stream",
     "text": [
      "CircuitGridModel: \n",
      "e, e, e, e, e, e, e, \n",
      "e, e, e, e, e, e, e, \n",
      "e, e, e, e, e, e, e, \n",
      "e, e, e, e, e, e, e, \n"
     ]
    }
   ],
   "source": [
    "circuit_grid = CircuitGridModel(4,7)\n",
    "print(circuit_grid)"
   ]
  },
  {
   "cell_type": "code",
   "execution_count": 8,
   "metadata": {},
   "outputs": [
    {
     "name": "stdout",
     "output_type": "stream",
     "text": [
      "type: id\n"
     ]
    }
   ],
   "source": [
    "print(gates[0])"
   ]
  },
  {
   "cell_type": "code",
   "execution_count": 9,
   "metadata": {},
   "outputs": [],
   "source": [
    "for j in range(circuit_grid.circuit_depth):\n",
    "    for i in range(circuit_grid.qubit_count):\n",
    "        circuit_grid.set_node(i,j,gates[j*circuit_grid.qubit_count + i])"
   ]
  },
  {
   "cell_type": "code",
   "execution_count": 13,
   "metadata": {},
   "outputs": [
    {
     "name": "stdout",
     "output_type": "stream",
     "text": [
      "CircuitGridModel: \n",
      "id, h, tdg, ct, ct, ct, ct, \n",
      "x, s, u1, ry, cz, ct, barrier, \n",
      "y, sdg, u2, rz, ch, ccx, measure, \n",
      "z, t, u3, cx, crz, swap, reset, \n"
     ]
    }
   ],
   "source": [
    "print(circuit_grid)"
   ]
  },
  {
   "cell_type": "code",
   "execution_count": 10,
   "metadata": {},
   "outputs": [
    {
     "name": "stdout",
     "output_type": "stream",
     "text": [
      "OPENQASM 2.0;include \"qelib1.inc\";qreg q[4];creg c[4];id q;id q[0];x q[1];y q[2];z q[3];h q[0];s q[1];sdg q[2];t q[3];tdg q[0];u1(pi) q[1];u2(pi,pi) q[2];u3(pi,pi,pi) q[3];ry(pi) q[1];rz(pi) q[2];cx q[0],q[3];cz q[2],q[1];ch q[3],q[2];crz(pi) q[0],q[3];ccx q[0],q[1],q[2];swap q[2],q[3];barrier q[1];measure q[2] -> c[2];reset q[3];\n"
     ]
    }
   ],
   "source": [
    "qasm_str = circuit_grid.create_qasm_for_circuit()\n",
    "print(qasm_str)"
   ]
  },
  {
   "cell_type": "code",
   "execution_count": 11,
   "metadata": {},
   "outputs": [],
   "source": [
    "qc = QuantumCircuit.from_qasm_str(qasm_str)"
   ]
  },
  {
   "cell_type": "code",
   "execution_count": 12,
   "metadata": {},
   "outputs": [
    {
     "data": {
      "text/html": [
       "<pre style=\"word-wrap: normal;white-space: pre;background: #fff0;line-height: 1.1;font-family: &quot;Courier New&quot;,Courier,monospace\">        ┌────┐┌────┐ ┌───┐     ┌─────┐                                      »\n",
       "q_0: |0>┤ Id ├┤ Id ├─┤ H ├─────┤ Tdg ├───────■────────────────────────■─────»\n",
       "        ├────┤├───┬┘ ├───┤    ┌┴─────┴─┐     │  ┌────────┐            │     »\n",
       "q_1: |0>┤ Id ├┤ X ├──┤ S ├────┤ U1(pi) ├─────┼──┤ Ry(pi) ├─■──────────┼─────»\n",
       "        ├────┤├───┤ ┌┴───┴┐ ┌─┴────────┴┐    │  ├────────┤ │ ┌───┐    │     »\n",
       "q_2: |0>┤ Id ├┤ Y ├─┤ Sdg ├─┤ U2(pi,pi) ├────┼──┤ Rz(pi) ├─■─┤ H ├────┼─────»\n",
       "        ├────┤├───┤ └┬───┬┘┌┴───────────┴─┐┌─┴─┐└────────┘   └─┬─┘┌───┴────┐»\n",
       "q_3: |0>┤ Id ├┤ Z ├──┤ T ├─┤ U3(pi,pi,pi) ├┤ X ├───────────────■──┤ Rz(pi) ├»\n",
       "        └────┘└───┘  └───┘ └──────────────┘└───┘                  └────────┘»\n",
       " c_0: 0 ════════════════════════════════════════════════════════════════════»\n",
       "                                                                            »\n",
       " c_1: 0 ════════════════════════════════════════════════════════════════════»\n",
       "                                                                            »\n",
       " c_2: 0 ════════════════════════════════════════════════════════════════════»\n",
       "                                                                            »\n",
       " c_3: 0 ════════════════════════════════════════════════════════════════════»\n",
       "                                                                            »\n",
       "«                     \n",
       "«q_0: ──■─────────────\n",
       "«       │   ░         \n",
       "«q_1: ──■───░─────────\n",
       "«     ┌─┴─┐ ░ ┌─┐     \n",
       "«q_2: ┤ X ├─X─┤M├─────\n",
       "«     └───┘ │ └╥┘     \n",
       "«q_3: ──────X──╫──|0>─\n",
       "«              ║      \n",
       "«c_0: ═════════╬══════\n",
       "«              ║      \n",
       "«c_1: ═════════╬══════\n",
       "«              ║      \n",
       "«c_2: ═════════╩══════\n",
       "«                     \n",
       "«c_3: ════════════════\n",
       "«                     </pre>"
      ],
      "text/plain": [
       "<qiskit.visualization.text.TextDrawing at 0x124d32ef0>"
      ]
     },
     "execution_count": 12,
     "metadata": {},
     "output_type": "execute_result"
    }
   ],
   "source": [
    "qc.draw()"
   ]
  },
  {
   "cell_type": "code",
   "execution_count": null,
   "metadata": {},
   "outputs": [],
   "source": []
  }
 ],
 "metadata": {
  "kernelspec": {
   "display_name": "Python 3",
   "language": "python",
   "name": "python3"
  },
  "language_info": {
   "codemirror_mode": {
    "name": "ipython",
    "version": 3
   },
   "file_extension": ".py",
   "mimetype": "text/x-python",
   "name": "python",
   "nbconvert_exporter": "python",
   "pygments_lexer": "ipython3",
   "version": "3.7.3"
  }
 },
 "nbformat": 4,
 "nbformat_minor": 2
}
