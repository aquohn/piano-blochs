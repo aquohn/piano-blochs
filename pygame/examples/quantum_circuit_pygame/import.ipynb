{
 "cells": [
  {
   "cell_type": "code",
   "execution_count": 1,
   "metadata": {},
   "outputs": [],
   "source": [
    "import sys\n",
    "sys.path.append('/Users/kirais/Documents/GitHub/Qiskit-for-GameDev/pygame/')"
   ]
  },
  {
   "cell_type": "code",
   "execution_count": 2,
   "metadata": {},
   "outputs": [
    {
     "name": "stdout",
     "output_type": "stream",
     "text": [
      "pygame 1.9.4\n",
      "Hello from the pygame community. https://www.pygame.org/contribute.html\n"
     ]
    }
   ],
   "source": [
    "from qgame import CircuitGridModel, CircuitGridNode, MeasurementsHistogram\n",
    "from qgame import circuit_node_types as node_types"
   ]
  },
  {
   "cell_type": "code",
   "execution_count": 3,
   "metadata": {},
   "outputs": [],
   "source": [
    "from qiskit import QuantumCircuit"
   ]
  },
  {
   "cell_type": "code",
   "execution_count": 4,
   "metadata": {},
   "outputs": [
    {
     "name": "stdout",
     "output_type": "stream",
     "text": [
      "OPENQASM 2.0;include \"qelib1.inc\";qreg q[4];creg c[4];id q;id q[0];\n"
     ]
    }
   ],
   "source": [
    "circuit_grid_model = CircuitGridModel(4, 18)\n",
    "circuit_grid_model.set_node(0, 0, CircuitGridNode(node_types.ID))\n",
    "circuit = circuit_grid_model.compute_circuit()"
   ]
  },
  {
   "cell_type": "code",
   "execution_count": 5,
   "metadata": {},
   "outputs": [
    {
     "name": "stdout",
     "output_type": "stream",
     "text": [
      "CircuitGridModel: \n",
      "id, e, e, e, e, e, e, e, e, e, e, e, e, e, e, e, e, e, \n",
      "e, e, e, e, e, e, e, e, e, e, e, e, e, e, e, e, e, e, \n",
      "e, e, e, e, e, e, e, e, e, e, e, e, e, e, e, e, e, e, \n",
      "e, e, e, e, e, e, e, e, e, e, e, e, e, e, e, e, e, e, \n"
     ]
    }
   ],
   "source": [
    "print(circuit_grid_model)"
   ]
  },
  {
   "cell_type": "code",
   "execution_count": 6,
   "metadata": {},
   "outputs": [],
   "source": [
    "cx_gate = CircuitGridNode(node_types.CX, 1, ctrl_a=0)"
   ]
  },
  {
   "cell_type": "code",
   "execution_count": 11,
   "metadata": {},
   "outputs": [],
   "source": [
    "circuit_grid_model.set_node(1,1,cx_gate)"
   ]
  },
  {
   "cell_type": "code",
   "execution_count": 12,
   "metadata": {},
   "outputs": [
    {
     "name": "stdout",
     "output_type": "stream",
     "text": [
      "CircuitGridModel: \n",
      "id, ct, e, e, e, e, e, e, e, e, e, e, e, e, e, e, e, e, \n",
      "e, cx, e, e, e, e, e, e, e, e, e, e, e, e, e, e, e, e, \n",
      "e, e, e, e, e, e, e, e, e, e, e, e, e, e, e, e, e, e, \n",
      "e, e, e, e, e, e, e, e, e, e, e, e, e, e, e, e, e, e, \n"
     ]
    }
   ],
   "source": [
    "print(circuit_grid_model)"
   ]
  },
  {
   "cell_type": "code",
   "execution_count": 14,
   "metadata": {},
   "outputs": [],
   "source": [
    "qasm_str = circuit_grid_model.create_qasm_for_circuit()"
   ]
  },
  {
   "cell_type": "code",
   "execution_count": 17,
   "metadata": {},
   "outputs": [],
   "source": [
    "qasm_str = 'OPENQASM 2.0;include \"qelib1.inc\";qreg q[4];creg c[4];id q;id q[0];rx(pi) q[1];'"
   ]
  },
  {
   "cell_type": "code",
   "execution_count": 15,
   "metadata": {},
   "outputs": [],
   "source": [
    "circuit = QuantumCircuit.from_qasm_str(qasm_str)"
   ]
  },
  {
   "cell_type": "code",
   "execution_count": 16,
   "metadata": {},
   "outputs": [
    {
     "data": {
      "text/html": [
       "<pre style=\"word-wrap: normal;white-space: pre;background: #fff0;line-height: 1.1;font-family: &quot;Courier New&quot;,Courier,monospace\">        ┌────┐┌────┐     \n",
       "q_0: |0>┤ Id ├┤ Id ├──■──\n",
       "        ├────┤└────┘┌─┴─┐\n",
       "q_1: |0>┤ Id ├──────┤ X ├\n",
       "        ├────┤      └───┘\n",
       "q_2: |0>┤ Id ├───────────\n",
       "        ├────┤           \n",
       "q_3: |0>┤ Id ├───────────\n",
       "        └────┘           \n",
       " c_0: 0 ═════════════════\n",
       "                         \n",
       " c_1: 0 ═════════════════\n",
       "                         \n",
       " c_2: 0 ═════════════════\n",
       "                         \n",
       " c_3: 0 ═════════════════\n",
       "                         </pre>"
      ],
      "text/plain": [
       "<qiskit.visualization.text.TextDrawing at 0x128cd4eb8>"
      ]
     },
     "execution_count": 16,
     "metadata": {},
     "output_type": "execute_result"
    }
   ],
   "source": [
    "circuit.draw()"
   ]
  },
  {
   "cell_type": "code",
   "execution_count": 14,
   "metadata": {},
   "outputs": [],
   "source": [
    "from qiskit import BasicAer, QuantumRegister, ClassicalRegister, QuantumCircuit, execute"
   ]
  },
  {
   "cell_type": "code",
   "execution_count": null,
   "metadata": {},
   "outputs": [],
   "source": [
    "backend_sim = BasicAer.get_backend('qasm_simulator')\n",
    "qr = QuantumRegister(circuit.width(), 'q')\n",
    "cr = ClassicalRegister(circuit.width(), 'c')\n",
    "meas_circ = QuantumCircuit(qr, cr)\n",
    "meas_circ.barrier(qr)\n",
    "meas_circ.measure(qr, cr)"
   ]
  },
  {
   "cell_type": "code",
   "execution_count": 16,
   "metadata": {},
   "outputs": [
    {
     "data": {
      "text/html": [
       "<pre style=\"word-wrap: normal;white-space: pre;background: #fff0;line-height: 1.1;font-family: &quot;Courier New&quot;,Courier,monospace\">        ┌────┐┌────┐\n",
       "q_0: |0>┤ Id ├┤ Id ├\n",
       "        ├────┤└────┘\n",
       "q_1: |0>┤ Id ├──────\n",
       "        ├────┤      \n",
       "q_2: |0>┤ Id ├──────\n",
       "        ├────┤      \n",
       "q_3: |0>┤ Id ├──────\n",
       "        └────┘      \n",
       " c_0: 0 ════════════\n",
       "                    \n",
       " c_1: 0 ════════════\n",
       "                    \n",
       " c_2: 0 ════════════\n",
       "                    \n",
       " c_3: 0 ════════════\n",
       "                    </pre>"
      ],
      "text/plain": [
       "<qiskit.visualization.text.TextDrawing at 0x1259bb358>"
      ]
     },
     "execution_count": 16,
     "metadata": {},
     "output_type": "execute_result"
    }
   ],
   "source": [
    "circuit.draw()"
   ]
  },
  {
   "cell_type": "code",
   "execution_count": 21,
   "metadata": {},
   "outputs": [
    {
     "data": {
      "text/plain": [
       "4"
      ]
     },
     "execution_count": 21,
     "metadata": {},
     "output_type": "execute_result"
    }
   ],
   "source": [
    "circuit.n_qubits"
   ]
  },
  {
   "cell_type": "code",
   "execution_count": 17,
   "metadata": {},
   "outputs": [
    {
     "data": {
      "text/html": [
       "<pre style=\"word-wrap: normal;white-space: pre;background: #fff0;line-height: 1.1;font-family: &quot;Courier New&quot;,Courier,monospace\">         ░ ┌─┐                     \n",
       "q_0: |0>─░─┤M├─────────────────────\n",
       "         ░ └╥┘┌─┐                  \n",
       "q_1: |0>─░──╫─┤M├──────────────────\n",
       "         ░  ║ └╥┘┌─┐               \n",
       "q_2: |0>─░──╫──╫─┤M├───────────────\n",
       "         ░  ║  ║ └╥┘┌─┐            \n",
       "q_3: |0>─░──╫──╫──╫─┤M├────────────\n",
       "         ░  ║  ║  ║ └╥┘┌─┐         \n",
       "q_4: |0>─░──╫──╫──╫──╫─┤M├─────────\n",
       "         ░  ║  ║  ║  ║ └╥┘┌─┐      \n",
       "q_5: |0>─░──╫──╫──╫──╫──╫─┤M├──────\n",
       "         ░  ║  ║  ║  ║  ║ └╥┘┌─┐   \n",
       "q_6: |0>─░──╫──╫──╫──╫──╫──╫─┤M├───\n",
       "         ░  ║  ║  ║  ║  ║  ║ └╥┘┌─┐\n",
       "q_7: |0>─░──╫──╫──╫──╫──╫──╫──╫─┤M├\n",
       "         ░  ║  ║  ║  ║  ║  ║  ║ └╥┘\n",
       " c_0: 0 ════╩══╬══╬══╬══╬══╬══╬══╬═\n",
       "               ║  ║  ║  ║  ║  ║  ║ \n",
       " c_1: 0 ═══════╩══╬══╬══╬══╬══╬══╬═\n",
       "                  ║  ║  ║  ║  ║  ║ \n",
       " c_2: 0 ══════════╩══╬══╬══╬══╬══╬═\n",
       "                     ║  ║  ║  ║  ║ \n",
       " c_3: 0 ═════════════╩══╬══╬══╬══╬═\n",
       "                        ║  ║  ║  ║ \n",
       " c_4: 0 ════════════════╩══╬══╬══╬═\n",
       "                           ║  ║  ║ \n",
       " c_5: 0 ═══════════════════╩══╬══╬═\n",
       "                              ║  ║ \n",
       " c_6: 0 ══════════════════════╩══╬═\n",
       "                                 ║ \n",
       " c_7: 0 ═════════════════════════╩═\n",
       "                                   </pre>"
      ],
      "text/plain": [
       "<qiskit.visualization.text.TextDrawing at 0x12588b6a0>"
      ]
     },
     "execution_count": 17,
     "metadata": {},
     "output_type": "execute_result"
    }
   ],
   "source": [
    "meas_circ.draw()"
   ]
  },
  {
   "cell_type": "code",
   "execution_count": 15,
   "metadata": {},
   "outputs": [
    {
     "ename": "QiskitError",
     "evalue": "'circuits are not compatible'",
     "output_type": "error",
     "traceback": [
      "\u001b[0;31m---------------------------------------------------------------------------\u001b[0m",
      "\u001b[0;31mQiskitError\u001b[0m                               Traceback (most recent call last)",
      "\u001b[0;32m<ipython-input-15-5113824ad20e>\u001b[0m in \u001b[0;36m<module>\u001b[0;34m\u001b[0m\n\u001b[1;32m      5\u001b[0m \u001b[0mmeas_circ\u001b[0m\u001b[0;34m.\u001b[0m\u001b[0mbarrier\u001b[0m\u001b[0;34m(\u001b[0m\u001b[0mqr\u001b[0m\u001b[0;34m)\u001b[0m\u001b[0;34m\u001b[0m\u001b[0;34m\u001b[0m\u001b[0m\n\u001b[1;32m      6\u001b[0m \u001b[0mmeas_circ\u001b[0m\u001b[0;34m.\u001b[0m\u001b[0mmeasure\u001b[0m\u001b[0;34m(\u001b[0m\u001b[0mqr\u001b[0m\u001b[0;34m,\u001b[0m \u001b[0mcr\u001b[0m\u001b[0;34m)\u001b[0m\u001b[0;34m\u001b[0m\u001b[0;34m\u001b[0m\u001b[0m\n\u001b[0;32m----> 7\u001b[0;31m \u001b[0mcomplete_circuit\u001b[0m \u001b[0;34m=\u001b[0m \u001b[0mcircuit\u001b[0m \u001b[0;34m+\u001b[0m \u001b[0mmeas_circ\u001b[0m\u001b[0;34m\u001b[0m\u001b[0;34m\u001b[0m\u001b[0m\n\u001b[0m",
      "\u001b[0;32m/usr/local/lib/python3.7/site-packages/qiskit/circuit/quantumcircuit.py\u001b[0m in \u001b[0;36m__add__\u001b[0;34m(self, rhs)\u001b[0m\n\u001b[1;32m    248\u001b[0m     \u001b[0;32mdef\u001b[0m \u001b[0m__add__\u001b[0m\u001b[0;34m(\u001b[0m\u001b[0mself\u001b[0m\u001b[0;34m,\u001b[0m \u001b[0mrhs\u001b[0m\u001b[0;34m)\u001b[0m\u001b[0;34m:\u001b[0m\u001b[0;34m\u001b[0m\u001b[0;34m\u001b[0m\u001b[0m\n\u001b[1;32m    249\u001b[0m         \u001b[0;34m\"\"\"Overload + to implement self.combine.\"\"\"\u001b[0m\u001b[0;34m\u001b[0m\u001b[0;34m\u001b[0m\u001b[0m\n\u001b[0;32m--> 250\u001b[0;31m         \u001b[0;32mreturn\u001b[0m \u001b[0mself\u001b[0m\u001b[0;34m.\u001b[0m\u001b[0mcombine\u001b[0m\u001b[0;34m(\u001b[0m\u001b[0mrhs\u001b[0m\u001b[0;34m)\u001b[0m\u001b[0;34m\u001b[0m\u001b[0;34m\u001b[0m\u001b[0m\n\u001b[0m\u001b[1;32m    251\u001b[0m \u001b[0;34m\u001b[0m\u001b[0m\n\u001b[1;32m    252\u001b[0m     \u001b[0;32mdef\u001b[0m \u001b[0m__iadd__\u001b[0m\u001b[0;34m(\u001b[0m\u001b[0mself\u001b[0m\u001b[0;34m,\u001b[0m \u001b[0mrhs\u001b[0m\u001b[0;34m)\u001b[0m\u001b[0;34m:\u001b[0m\u001b[0;34m\u001b[0m\u001b[0;34m\u001b[0m\u001b[0m\n",
      "\u001b[0;32m/usr/local/lib/python3.7/site-packages/qiskit/circuit/quantumcircuit.py\u001b[0m in \u001b[0;36mcombine\u001b[0;34m(self, rhs)\u001b[0m\n\u001b[1;32m    188\u001b[0m         \"\"\"\n\u001b[1;32m    189\u001b[0m         \u001b[0;31m# Check registers in LHS are compatible with RHS\u001b[0m\u001b[0;34m\u001b[0m\u001b[0;34m\u001b[0m\u001b[0;34m\u001b[0m\u001b[0m\n\u001b[0;32m--> 190\u001b[0;31m         \u001b[0mself\u001b[0m\u001b[0;34m.\u001b[0m\u001b[0m_check_compatible_regs\u001b[0m\u001b[0;34m(\u001b[0m\u001b[0mrhs\u001b[0m\u001b[0;34m)\u001b[0m\u001b[0;34m\u001b[0m\u001b[0;34m\u001b[0m\u001b[0m\n\u001b[0m\u001b[1;32m    191\u001b[0m \u001b[0;34m\u001b[0m\u001b[0m\n\u001b[1;32m    192\u001b[0m         \u001b[0;31m# Make new circuit with combined registers\u001b[0m\u001b[0;34m\u001b[0m\u001b[0;34m\u001b[0m\u001b[0;34m\u001b[0m\u001b[0m\n",
      "\u001b[0;32m/usr/local/lib/python3.7/site-packages/qiskit/circuit/quantumcircuit.py\u001b[0m in \u001b[0;36m_check_compatible_regs\u001b[0;34m(self, rhs)\u001b[0m\n\u001b[1;32m    507\u001b[0m                 \u001b[0;32mif\u001b[0m \u001b[0melement2\u001b[0m\u001b[0;34m.\u001b[0m\u001b[0mname\u001b[0m \u001b[0;34m==\u001b[0m \u001b[0melement1\u001b[0m\u001b[0;34m.\u001b[0m\u001b[0mname\u001b[0m\u001b[0;34m:\u001b[0m\u001b[0;34m\u001b[0m\u001b[0;34m\u001b[0m\u001b[0m\n\u001b[1;32m    508\u001b[0m                     \u001b[0;32mif\u001b[0m \u001b[0melement1\u001b[0m \u001b[0;34m!=\u001b[0m \u001b[0melement2\u001b[0m\u001b[0;34m:\u001b[0m\u001b[0;34m\u001b[0m\u001b[0;34m\u001b[0m\u001b[0m\n\u001b[0;32m--> 509\u001b[0;31m                         \u001b[0;32mraise\u001b[0m \u001b[0mQiskitError\u001b[0m\u001b[0;34m(\u001b[0m\u001b[0;34m\"circuits are not compatible\"\u001b[0m\u001b[0;34m)\u001b[0m\u001b[0;34m\u001b[0m\u001b[0;34m\u001b[0m\u001b[0m\n\u001b[0m\u001b[1;32m    510\u001b[0m \u001b[0;34m\u001b[0m\u001b[0m\n\u001b[1;32m    511\u001b[0m     \u001b[0;32mdef\u001b[0m \u001b[0mqasm\u001b[0m\u001b[0;34m(\u001b[0m\u001b[0mself\u001b[0m\u001b[0;34m)\u001b[0m\u001b[0;34m:\u001b[0m\u001b[0;34m\u001b[0m\u001b[0;34m\u001b[0m\u001b[0m\n",
      "\u001b[0;31mQiskitError\u001b[0m: 'circuits are not compatible'"
     ]
    }
   ],
   "source": [
    "complete_circuit = circuit + meas_circ"
   ]
  },
  {
   "cell_type": "code",
   "execution_count": null,
   "metadata": {},
   "outputs": [],
   "source": []
  }
 ],
 "metadata": {
  "kernelspec": {
   "display_name": "Python 3",
   "language": "python",
   "name": "python3"
  },
  "language_info": {
   "codemirror_mode": {
    "name": "ipython",
    "version": 3
   },
   "file_extension": ".py",
   "mimetype": "text/x-python",
   "name": "python",
   "nbconvert_exporter": "python",
   "pygments_lexer": "ipython3",
   "version": "3.7.3"
  }
 },
 "nbformat": 4,
 "nbformat_minor": 2
}
